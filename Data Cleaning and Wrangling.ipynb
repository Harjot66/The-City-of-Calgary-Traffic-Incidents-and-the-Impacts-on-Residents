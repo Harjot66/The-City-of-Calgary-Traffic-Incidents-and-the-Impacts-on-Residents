{
 "cells": [
  {
   "cell_type": "markdown",
   "metadata": {},
   "source": [
    "# The City of Calgary: Traffic Incidents and the Impacts on Residents\n",
    "\n",
    "## Data Cleaning and Wrangling"
   ]
  },
  {
   "cell_type": "code",
   "execution_count": 38,
   "metadata": {},
   "outputs": [],
   "source": [
    "# importing packages\n",
    "import pandas as pd\n",
    "import numpy as np\n",
    "import geopandas as gpd"
   ]
  },
  {
   "cell_type": "code",
   "execution_count": 39,
   "metadata": {},
   "outputs": [
    {
     "data": {
      "text/html": [
       "<div>\n",
       "<style scoped>\n",
       "    .dataframe tbody tr th:only-of-type {\n",
       "        vertical-align: middle;\n",
       "    }\n",
       "\n",
       "    .dataframe tbody tr th {\n",
       "        vertical-align: top;\n",
       "    }\n",
       "\n",
       "    .dataframe thead th {\n",
       "        text-align: right;\n",
       "    }\n",
       "</style>\n",
       "<table border=\"1\" class=\"dataframe\">\n",
       "  <thead>\n",
       "    <tr style=\"text-align: right;\">\n",
       "      <th></th>\n",
       "      <th>INCIDENT INFO</th>\n",
       "      <th>DESCRIPTION</th>\n",
       "      <th>START_DT</th>\n",
       "      <th>MODIFIED_DT</th>\n",
       "      <th>QUADRANT</th>\n",
       "      <th>Longitude</th>\n",
       "      <th>Latitude</th>\n",
       "      <th>Count</th>\n",
       "      <th>id</th>\n",
       "      <th>Point</th>\n",
       "    </tr>\n",
       "  </thead>\n",
       "  <tbody>\n",
       "    <tr>\n",
       "      <th>0</th>\n",
       "      <td>Westbound 16 Avenue at Deerfoot Trail NE</td>\n",
       "      <td>Stalled vehicle.  Partially blocking the right...</td>\n",
       "      <td>2022/06/21 07:31:40 AM</td>\n",
       "      <td>2022/06/21 07:33:16 AM</td>\n",
       "      <td>NE</td>\n",
       "      <td>-114.026687</td>\n",
       "      <td>51.067485</td>\n",
       "      <td>1</td>\n",
       "      <td>2022-06-21T07:31:4051.067485129276236-114.0266...</td>\n",
       "      <td>POINT (-114.02668672232672 51.067485129276236)</td>\n",
       "    </tr>\n",
       "    <tr>\n",
       "      <th>1</th>\n",
       "      <td>11 Avenue and 4 Street SW</td>\n",
       "      <td>Traffic incident. Blocking multiple lanes</td>\n",
       "      <td>2022/06/21 04:02:11 AM</td>\n",
       "      <td>2022/06/21 04:12:38 AM</td>\n",
       "      <td>SW</td>\n",
       "      <td>-114.071481</td>\n",
       "      <td>51.042624</td>\n",
       "      <td>1</td>\n",
       "      <td>2022-06-21T04:02:1151.04262449261462-114.07148...</td>\n",
       "      <td>POINT (-114.07148057660925 51.04262449261462)</td>\n",
       "    </tr>\n",
       "    <tr>\n",
       "      <th>2</th>\n",
       "      <td>68 Street and Memorial Drive E</td>\n",
       "      <td>Traffic incident.</td>\n",
       "      <td>2022/06/20 11:53:08 PM</td>\n",
       "      <td>2022/06/20 11:55:42 PM</td>\n",
       "      <td>NE</td>\n",
       "      <td>-113.935553</td>\n",
       "      <td>51.052474</td>\n",
       "      <td>1</td>\n",
       "      <td>2022-06-20T23:53:0851.0524735056658-113.935553...</td>\n",
       "      <td>POINT (-113.935553325751 51.0524735056658)</td>\n",
       "    </tr>\n",
       "    <tr>\n",
       "      <th>3</th>\n",
       "      <td>Eastbound 16 Avenue and 36 Street NE</td>\n",
       "      <td>Traffic incident. Blocking the left shoulder</td>\n",
       "      <td>2022/06/20 04:43:21 PM</td>\n",
       "      <td>2022/06/20 05:17:05 PM</td>\n",
       "      <td>NE</td>\n",
       "      <td>-113.989219</td>\n",
       "      <td>51.067086</td>\n",
       "      <td>1</td>\n",
       "      <td>2022-06-20T16:43:2151.06708565896752-113.98921...</td>\n",
       "      <td>POINT (-113.98921905311566 51.06708565896752)</td>\n",
       "    </tr>\n",
       "    <tr>\n",
       "      <th>4</th>\n",
       "      <td>Barlow Trail and 61 Avenue SE</td>\n",
       "      <td>Traffic incident.</td>\n",
       "      <td>2022/06/20 04:42:12 PM</td>\n",
       "      <td>2022/06/20 05:28:21 PM</td>\n",
       "      <td>SE</td>\n",
       "      <td>-113.985727</td>\n",
       "      <td>50.998727</td>\n",
       "      <td>1</td>\n",
       "      <td>2022-06-20T16:42:1250.99872748477766-113.98572...</td>\n",
       "      <td>POINT (-113.98572655353505 50.99872748477766)</td>\n",
       "    </tr>\n",
       "  </tbody>\n",
       "</table>\n",
       "</div>"
      ],
      "text/plain": [
       "                                INCIDENT INFO  \\\n",
       "0   Westbound 16 Avenue at Deerfoot Trail NE    \n",
       "1                  11 Avenue and 4 Street SW    \n",
       "2             68 Street and Memorial Drive E    \n",
       "3       Eastbound 16 Avenue and 36 Street NE    \n",
       "4              Barlow Trail and 61 Avenue SE    \n",
       "\n",
       "                                         DESCRIPTION                START_DT  \\\n",
       "0  Stalled vehicle.  Partially blocking the right...  2022/06/21 07:31:40 AM   \n",
       "1          Traffic incident. Blocking multiple lanes  2022/06/21 04:02:11 AM   \n",
       "2                                  Traffic incident.  2022/06/20 11:53:08 PM   \n",
       "3       Traffic incident. Blocking the left shoulder  2022/06/20 04:43:21 PM   \n",
       "4                                  Traffic incident.  2022/06/20 04:42:12 PM   \n",
       "\n",
       "              MODIFIED_DT QUADRANT   Longitude   Latitude  Count  \\\n",
       "0  2022/06/21 07:33:16 AM       NE -114.026687  51.067485      1   \n",
       "1  2022/06/21 04:12:38 AM       SW -114.071481  51.042624      1   \n",
       "2  2022/06/20 11:55:42 PM       NE -113.935553  51.052474      1   \n",
       "3  2022/06/20 05:17:05 PM       NE -113.989219  51.067086      1   \n",
       "4  2022/06/20 05:28:21 PM       SE -113.985727  50.998727      1   \n",
       "\n",
       "                                                  id  \\\n",
       "0  2022-06-21T07:31:4051.067485129276236-114.0266...   \n",
       "1  2022-06-21T04:02:1151.04262449261462-114.07148...   \n",
       "2  2022-06-20T23:53:0851.0524735056658-113.935553...   \n",
       "3  2022-06-20T16:43:2151.06708565896752-113.98921...   \n",
       "4  2022-06-20T16:42:1250.99872748477766-113.98572...   \n",
       "\n",
       "                                            Point  \n",
       "0  POINT (-114.02668672232672 51.067485129276236)  \n",
       "1   POINT (-114.07148057660925 51.04262449261462)  \n",
       "2      POINT (-113.935553325751 51.0524735056658)  \n",
       "3   POINT (-113.98921905311566 51.06708565896752)  \n",
       "4   POINT (-113.98572655353505 50.99872748477766)  "
      ]
     },
     "metadata": {},
     "output_type": "display_data"
    }
   ],
   "source": [
    "# importing the traffic incidents dataset\n",
    "traffic_incidents_df = pd.read_csv(\"Traffic_Incidents_20240127.csv\")\n",
    "display(traffic_incidents_df.head())"
   ]
  },
  {
   "cell_type": "code",
   "execution_count": 40,
   "metadata": {},
   "outputs": [
    {
     "data": {
      "text/plain": [
       "array([1])"
      ]
     },
     "execution_count": 40,
     "metadata": {},
     "output_type": "execute_result"
    }
   ],
   "source": [
    "# checking if all counts of traffic incidents are 1\n",
    "traffic_incidents_df[\"Count\"].unique()"
   ]
  },
  {
   "cell_type": "code",
   "execution_count": 41,
   "metadata": {},
   "outputs": [],
   "source": [
    "# dropping columns not needed\n",
    "traffic_incidents_df.drop(columns = [\"id\", \"Count\", \"Point\"], inplace = True)"
   ]
  },
  {
   "cell_type": "code",
   "execution_count": 42,
   "metadata": {},
   "outputs": [
    {
     "data": {
      "text/plain": [
       "INCIDENT INFO        0\n",
       "DESCRIPTION          2\n",
       "START_DT             0\n",
       "MODIFIED_DT      14057\n",
       "QUADRANT         14059\n",
       "Longitude            0\n",
       "Latitude             0\n",
       "dtype: int64"
      ]
     },
     "metadata": {},
     "output_type": "display_data"
    }
   ],
   "source": [
    "# checking for missing values in each column\n",
    "display(traffic_incidents_df.isna().sum())"
   ]
  },
  {
   "cell_type": "code",
   "execution_count": 43,
   "metadata": {},
   "outputs": [],
   "source": [
    "# dropping the columns with a significant number of missing values\n",
    "traffic_incidents_df.drop(columns = [\"MODIFIED_DT\", \"QUADRANT\"], inplace = True)"
   ]
  },
  {
   "cell_type": "code",
   "execution_count": 44,
   "metadata": {},
   "outputs": [
    {
     "data": {
      "text/plain": [
       "INCIDENT INFO     object\n",
       "DESCRIPTION       object\n",
       "START_DT          object\n",
       "Longitude        float64\n",
       "Latitude         float64\n",
       "dtype: object"
      ]
     },
     "metadata": {},
     "output_type": "display_data"
    }
   ],
   "source": [
    "# checking the datatypes of dataframes\n",
    "display(traffic_incidents_df.dtypes)"
   ]
  },
  {
   "cell_type": "code",
   "execution_count": 45,
   "metadata": {},
   "outputs": [],
   "source": [
    "# converting the START_DT column into a datetime object\n",
    "traffic_incidents_df[\"START_DT\"] = pd.to_datetime(traffic_incidents_df[\"START_DT\"])"
   ]
  },
  {
   "cell_type": "code",
   "execution_count": 46,
   "metadata": {},
   "outputs": [],
   "source": [
    "# filtering for all incidents before jan 1, 2024 12:00:00 am\n",
    "traffic_incidents_df = traffic_incidents_df[traffic_incidents_df[\"START_DT\"] < \"2024-01-01 00:00:00\"]"
   ]
  },
  {
   "cell_type": "code",
   "execution_count": 47,
   "metadata": {},
   "outputs": [],
   "source": [
    "# changing column names\n",
    "traffic_incidents_df.rename(columns = {\"INCIDENT INFO\":\"Incident info\", \"DESCRIPTION\":\"Description\", \"START_DT\":\"Date\"}, inplace = True)"
   ]
  },
  {
   "cell_type": "code",
   "execution_count": 48,
   "metadata": {},
   "outputs": [
    {
     "data": {
      "text/html": [
       "<div>\n",
       "<style scoped>\n",
       "    .dataframe tbody tr th:only-of-type {\n",
       "        vertical-align: middle;\n",
       "    }\n",
       "\n",
       "    .dataframe tbody tr th {\n",
       "        vertical-align: top;\n",
       "    }\n",
       "\n",
       "    .dataframe thead th {\n",
       "        text-align: right;\n",
       "    }\n",
       "</style>\n",
       "<table border=\"1\" class=\"dataframe\">\n",
       "  <thead>\n",
       "    <tr style=\"text-align: right;\">\n",
       "      <th></th>\n",
       "      <th>Incident info</th>\n",
       "      <th>Description</th>\n",
       "      <th>Date</th>\n",
       "      <th>Longitude</th>\n",
       "      <th>Latitude</th>\n",
       "    </tr>\n",
       "  </thead>\n",
       "  <tbody>\n",
       "    <tr>\n",
       "      <th>0</th>\n",
       "      <td>Westbound 16 Avenue at Deerfoot Trail NE</td>\n",
       "      <td>Stalled vehicle.  Partially blocking the right...</td>\n",
       "      <td>2022-06-21 07:31:40</td>\n",
       "      <td>-114.026687</td>\n",
       "      <td>51.067485</td>\n",
       "    </tr>\n",
       "    <tr>\n",
       "      <th>1</th>\n",
       "      <td>11 Avenue and 4 Street SW</td>\n",
       "      <td>Traffic incident. Blocking multiple lanes</td>\n",
       "      <td>2022-06-21 04:02:11</td>\n",
       "      <td>-114.071481</td>\n",
       "      <td>51.042624</td>\n",
       "    </tr>\n",
       "    <tr>\n",
       "      <th>2</th>\n",
       "      <td>68 Street and Memorial Drive E</td>\n",
       "      <td>Traffic incident.</td>\n",
       "      <td>2022-06-20 23:53:08</td>\n",
       "      <td>-113.935553</td>\n",
       "      <td>51.052474</td>\n",
       "    </tr>\n",
       "    <tr>\n",
       "      <th>3</th>\n",
       "      <td>Eastbound 16 Avenue and 36 Street NE</td>\n",
       "      <td>Traffic incident. Blocking the left shoulder</td>\n",
       "      <td>2022-06-20 16:43:21</td>\n",
       "      <td>-113.989219</td>\n",
       "      <td>51.067086</td>\n",
       "    </tr>\n",
       "    <tr>\n",
       "      <th>4</th>\n",
       "      <td>Barlow Trail and 61 Avenue SE</td>\n",
       "      <td>Traffic incident.</td>\n",
       "      <td>2022-06-20 16:42:12</td>\n",
       "      <td>-113.985727</td>\n",
       "      <td>50.998727</td>\n",
       "    </tr>\n",
       "  </tbody>\n",
       "</table>\n",
       "</div>"
      ],
      "text/plain": [
       "                                Incident info  \\\n",
       "0   Westbound 16 Avenue at Deerfoot Trail NE    \n",
       "1                  11 Avenue and 4 Street SW    \n",
       "2             68 Street and Memorial Drive E    \n",
       "3       Eastbound 16 Avenue and 36 Street NE    \n",
       "4              Barlow Trail and 61 Avenue SE    \n",
       "\n",
       "                                         Description                Date  \\\n",
       "0  Stalled vehicle.  Partially blocking the right... 2022-06-21 07:31:40   \n",
       "1          Traffic incident. Blocking multiple lanes 2022-06-21 04:02:11   \n",
       "2                                  Traffic incident. 2022-06-20 23:53:08   \n",
       "3       Traffic incident. Blocking the left shoulder 2022-06-20 16:43:21   \n",
       "4                                  Traffic incident. 2022-06-20 16:42:12   \n",
       "\n",
       "    Longitude   Latitude  \n",
       "0 -114.026687  51.067485  \n",
       "1 -114.071481  51.042624  \n",
       "2 -113.935553  51.052474  \n",
       "3 -113.989219  51.067086  \n",
       "4 -113.985727  50.998727  "
      ]
     },
     "metadata": {},
     "output_type": "display_data"
    }
   ],
   "source": [
    "# displaying the dataframe\n",
    "display(traffic_incidents_df.head())"
   ]
  },
  {
   "cell_type": "code",
   "execution_count": 49,
   "metadata": {},
   "outputs": [],
   "source": [
    "# exporting the dataset as a csv\n",
    "traffic_incidents_df.to_csv(\"Traffic_Incidents_Cleaned.csv\", index = False)"
   ]
  },
  {
   "cell_type": "code",
   "execution_count": 50,
   "metadata": {},
   "outputs": [],
   "source": [
    "# creating a geojson file from the cleaned dataset\n",
    "# importing the cleaned dataset into geopandas\n",
    "traffic_incidents_gdf = gpd.read_file(\"Traffic_Incidents_Cleaned.csv\", crs = 'EPSG:4326')\n",
    "# changing the empty geometry column to include the longitude and latitude values as coordinates\n",
    "traffic_incidents_gdf['geometry'] = gpd.points_from_xy(traffic_incidents_gdf['Longitude'], traffic_incidents_gdf['Latitude'])\n",
    "# dropping the original longitude and latitude columns\n",
    "traffic_incidents_gdf = traffic_incidents_gdf.drop(columns=['Longitude', 'Latitude'])\n",
    "# exporting the geodataframe as a geojson file\n",
    "traffic_incidents_gdf.to_file(\"Traffic_Incidents_Cleaned.geojson\", driver = 'GeoJSON')"
   ]
  },
  {
   "cell_type": "markdown",
   "metadata": {},
   "source": [
    "### References\n",
    "\n",
    "City of Calgary. (2024). Traffic Incidents: Open Calgary. https://data.calgary.ca/Transportation-Transit/Traffic-Incidents/35ra-9556/about_data"
   ]
  }
 ],
 "metadata": {
  "kernelspec": {
   "display_name": "base",
   "language": "python",
   "name": "python3"
  },
  "language_info": {
   "codemirror_mode": {
    "name": "ipython",
    "version": 3
   },
   "file_extension": ".py",
   "mimetype": "text/x-python",
   "name": "python",
   "nbconvert_exporter": "python",
   "pygments_lexer": "ipython3",
   "version": "3.11.5"
  }
 },
 "nbformat": 4,
 "nbformat_minor": 2
}
