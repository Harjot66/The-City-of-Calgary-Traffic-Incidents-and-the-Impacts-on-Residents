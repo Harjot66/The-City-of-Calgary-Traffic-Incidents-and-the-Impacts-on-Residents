{
 "cells": [
  {
   "cell_type": "markdown",
   "metadata": {},
   "source": [
    "# The City of Calgary: Traffic Incidents and the Impacts on Residents\n",
    "\n",
    "## Data Cleaning and Wrangling"
   ]
  },
  {
   "cell_type": "code",
   "execution_count": 1,
   "metadata": {},
   "outputs": [],
   "source": [
    "# importing packages\n",
    "import pandas as pd"
   ]
  },
  {
   "cell_type": "markdown",
   "metadata": {},
   "source": [
    "#### Traffic Incidents Dataset"
   ]
  },
  {
   "cell_type": "code",
   "execution_count": 2,
   "metadata": {},
   "outputs": [
    {
     "data": {
      "text/html": [
       "<div>\n",
       "<style scoped>\n",
       "    .dataframe tbody tr th:only-of-type {\n",
       "        vertical-align: middle;\n",
       "    }\n",
       "\n",
       "    .dataframe tbody tr th {\n",
       "        vertical-align: top;\n",
       "    }\n",
       "\n",
       "    .dataframe thead th {\n",
       "        text-align: right;\n",
       "    }\n",
       "</style>\n",
       "<table border=\"1\" class=\"dataframe\">\n",
       "  <thead>\n",
       "    <tr style=\"text-align: right;\">\n",
       "      <th></th>\n",
       "      <th>INCIDENT INFO</th>\n",
       "      <th>DESCRIPTION</th>\n",
       "      <th>START_DT</th>\n",
       "      <th>MODIFIED_DT</th>\n",
       "      <th>QUADRANT</th>\n",
       "      <th>Longitude</th>\n",
       "      <th>Latitude</th>\n",
       "      <th>Count</th>\n",
       "      <th>id</th>\n",
       "      <th>Point</th>\n",
       "    </tr>\n",
       "  </thead>\n",
       "  <tbody>\n",
       "    <tr>\n",
       "      <th>0</th>\n",
       "      <td>Westbound 16 Avenue at Deerfoot Trail NE</td>\n",
       "      <td>Stalled vehicle.  Partially blocking the right...</td>\n",
       "      <td>2022/06/21 07:31:40 AM</td>\n",
       "      <td>2022/06/21 07:33:16 AM</td>\n",
       "      <td>NE</td>\n",
       "      <td>-114.026687</td>\n",
       "      <td>51.067485</td>\n",
       "      <td>1</td>\n",
       "      <td>2022-06-21T07:31:4051.067485129276236-114.0266...</td>\n",
       "      <td>POINT (-114.02668672232672 51.067485129276236)</td>\n",
       "    </tr>\n",
       "    <tr>\n",
       "      <th>1</th>\n",
       "      <td>11 Avenue and 4 Street SW</td>\n",
       "      <td>Traffic incident. Blocking multiple lanes</td>\n",
       "      <td>2022/06/21 04:02:11 AM</td>\n",
       "      <td>2022/06/21 04:12:38 AM</td>\n",
       "      <td>SW</td>\n",
       "      <td>-114.071481</td>\n",
       "      <td>51.042624</td>\n",
       "      <td>1</td>\n",
       "      <td>2022-06-21T04:02:1151.04262449261462-114.07148...</td>\n",
       "      <td>POINT (-114.07148057660925 51.04262449261462)</td>\n",
       "    </tr>\n",
       "    <tr>\n",
       "      <th>2</th>\n",
       "      <td>68 Street and Memorial Drive E</td>\n",
       "      <td>Traffic incident.</td>\n",
       "      <td>2022/06/20 11:53:08 PM</td>\n",
       "      <td>2022/06/20 11:55:42 PM</td>\n",
       "      <td>NE</td>\n",
       "      <td>-113.935553</td>\n",
       "      <td>51.052474</td>\n",
       "      <td>1</td>\n",
       "      <td>2022-06-20T23:53:0851.0524735056658-113.935553...</td>\n",
       "      <td>POINT (-113.935553325751 51.0524735056658)</td>\n",
       "    </tr>\n",
       "    <tr>\n",
       "      <th>3</th>\n",
       "      <td>Eastbound 16 Avenue and 36 Street NE</td>\n",
       "      <td>Traffic incident. Blocking the left shoulder</td>\n",
       "      <td>2022/06/20 04:43:21 PM</td>\n",
       "      <td>2022/06/20 05:17:05 PM</td>\n",
       "      <td>NE</td>\n",
       "      <td>-113.989219</td>\n",
       "      <td>51.067086</td>\n",
       "      <td>1</td>\n",
       "      <td>2022-06-20T16:43:2151.06708565896752-113.98921...</td>\n",
       "      <td>POINT (-113.98921905311566 51.06708565896752)</td>\n",
       "    </tr>\n",
       "    <tr>\n",
       "      <th>4</th>\n",
       "      <td>Barlow Trail and 61 Avenue SE</td>\n",
       "      <td>Traffic incident.</td>\n",
       "      <td>2022/06/20 04:42:12 PM</td>\n",
       "      <td>2022/06/20 05:28:21 PM</td>\n",
       "      <td>SE</td>\n",
       "      <td>-113.985727</td>\n",
       "      <td>50.998727</td>\n",
       "      <td>1</td>\n",
       "      <td>2022-06-20T16:42:1250.99872748477766-113.98572...</td>\n",
       "      <td>POINT (-113.98572655353505 50.99872748477766)</td>\n",
       "    </tr>\n",
       "  </tbody>\n",
       "</table>\n",
       "</div>"
      ],
      "text/plain": [
       "                                INCIDENT INFO  \\\n",
       "0   Westbound 16 Avenue at Deerfoot Trail NE    \n",
       "1                  11 Avenue and 4 Street SW    \n",
       "2             68 Street and Memorial Drive E    \n",
       "3       Eastbound 16 Avenue and 36 Street NE    \n",
       "4              Barlow Trail and 61 Avenue SE    \n",
       "\n",
       "                                         DESCRIPTION                START_DT  \\\n",
       "0  Stalled vehicle.  Partially blocking the right...  2022/06/21 07:31:40 AM   \n",
       "1          Traffic incident. Blocking multiple lanes  2022/06/21 04:02:11 AM   \n",
       "2                                  Traffic incident.  2022/06/20 11:53:08 PM   \n",
       "3       Traffic incident. Blocking the left shoulder  2022/06/20 04:43:21 PM   \n",
       "4                                  Traffic incident.  2022/06/20 04:42:12 PM   \n",
       "\n",
       "              MODIFIED_DT QUADRANT   Longitude   Latitude  Count  \\\n",
       "0  2022/06/21 07:33:16 AM       NE -114.026687  51.067485      1   \n",
       "1  2022/06/21 04:12:38 AM       SW -114.071481  51.042624      1   \n",
       "2  2022/06/20 11:55:42 PM       NE -113.935553  51.052474      1   \n",
       "3  2022/06/20 05:17:05 PM       NE -113.989219  51.067086      1   \n",
       "4  2022/06/20 05:28:21 PM       SE -113.985727  50.998727      1   \n",
       "\n",
       "                                                  id  \\\n",
       "0  2022-06-21T07:31:4051.067485129276236-114.0266...   \n",
       "1  2022-06-21T04:02:1151.04262449261462-114.07148...   \n",
       "2  2022-06-20T23:53:0851.0524735056658-113.935553...   \n",
       "3  2022-06-20T16:43:2151.06708565896752-113.98921...   \n",
       "4  2022-06-20T16:42:1250.99872748477766-113.98572...   \n",
       "\n",
       "                                            Point  \n",
       "0  POINT (-114.02668672232672 51.067485129276236)  \n",
       "1   POINT (-114.07148057660925 51.04262449261462)  \n",
       "2      POINT (-113.935553325751 51.0524735056658)  \n",
       "3   POINT (-113.98921905311566 51.06708565896752)  \n",
       "4   POINT (-113.98572655353505 50.99872748477766)  "
      ]
     },
     "metadata": {},
     "output_type": "display_data"
    }
   ],
   "source": [
    "# importing the raw traffic incidents dataset\n",
    "traffic_incidents_df = pd.read_csv(\"Traffic_Incidents_20240127.csv\")\n",
    "display(traffic_incidents_df.head())"
   ]
  },
  {
   "cell_type": "code",
   "execution_count": 3,
   "metadata": {},
   "outputs": [
    {
     "data": {
      "text/plain": [
       "array([1])"
      ]
     },
     "execution_count": 3,
     "metadata": {},
     "output_type": "execute_result"
    }
   ],
   "source": [
    "# checking if all counts of traffic incidents are 1\n",
    "traffic_incidents_df[\"Count\"].unique()"
   ]
  },
  {
   "cell_type": "code",
   "execution_count": 4,
   "metadata": {},
   "outputs": [
    {
     "data": {
      "text/plain": [
       "INCIDENT INFO        0\n",
       "DESCRIPTION          2\n",
       "START_DT             0\n",
       "MODIFIED_DT      14057\n",
       "QUADRANT         14059\n",
       "Longitude            0\n",
       "Latitude             0\n",
       "dtype: int64"
      ]
     },
     "metadata": {},
     "output_type": "display_data"
    }
   ],
   "source": [
    "# dropping columns not needed\n",
    "traffic_incidents_df.drop(columns = [\"id\", \"Count\", \"Point\"], inplace = True)\n",
    "# checking for the number of missing values in each column\n",
    "display(traffic_incidents_df.isna().sum())"
   ]
  },
  {
   "cell_type": "code",
   "execution_count": 5,
   "metadata": {},
   "outputs": [
    {
     "data": {
      "text/plain": [
       "INCIDENT INFO     object\n",
       "DESCRIPTION       object\n",
       "START_DT          object\n",
       "Longitude        float64\n",
       "Latitude         float64\n",
       "dtype: object"
      ]
     },
     "metadata": {},
     "output_type": "display_data"
    }
   ],
   "source": [
    "# dropping the columns with a significant number of missing values\n",
    "traffic_incidents_df.drop(columns = [\"MODIFIED_DT\", \"QUADRANT\"], inplace = True)\n",
    "# checking the datatypes of each column\n",
    "display(traffic_incidents_df.dtypes)"
   ]
  },
  {
   "cell_type": "code",
   "execution_count": 6,
   "metadata": {},
   "outputs": [
    {
     "data": {
      "text/html": [
       "<div>\n",
       "<style scoped>\n",
       "    .dataframe tbody tr th:only-of-type {\n",
       "        vertical-align: middle;\n",
       "    }\n",
       "\n",
       "    .dataframe tbody tr th {\n",
       "        vertical-align: top;\n",
       "    }\n",
       "\n",
       "    .dataframe thead th {\n",
       "        text-align: right;\n",
       "    }\n",
       "</style>\n",
       "<table border=\"1\" class=\"dataframe\">\n",
       "  <thead>\n",
       "    <tr style=\"text-align: right;\">\n",
       "      <th></th>\n",
       "      <th>Incident info</th>\n",
       "      <th>Description</th>\n",
       "      <th>Date</th>\n",
       "      <th>Longitude</th>\n",
       "      <th>Latitude</th>\n",
       "    </tr>\n",
       "  </thead>\n",
       "  <tbody>\n",
       "    <tr>\n",
       "      <th>0</th>\n",
       "      <td>Westbound 16 Avenue at Deerfoot Trail NE</td>\n",
       "      <td>Stalled vehicle.  Partially blocking the right...</td>\n",
       "      <td>2022-06-21 07:31:40</td>\n",
       "      <td>-114.026687</td>\n",
       "      <td>51.067485</td>\n",
       "    </tr>\n",
       "    <tr>\n",
       "      <th>1</th>\n",
       "      <td>11 Avenue and 4 Street SW</td>\n",
       "      <td>Traffic incident. Blocking multiple lanes</td>\n",
       "      <td>2022-06-21 04:02:11</td>\n",
       "      <td>-114.071481</td>\n",
       "      <td>51.042624</td>\n",
       "    </tr>\n",
       "    <tr>\n",
       "      <th>2</th>\n",
       "      <td>68 Street and Memorial Drive E</td>\n",
       "      <td>Traffic incident.</td>\n",
       "      <td>2022-06-20 23:53:08</td>\n",
       "      <td>-113.935553</td>\n",
       "      <td>51.052474</td>\n",
       "    </tr>\n",
       "    <tr>\n",
       "      <th>3</th>\n",
       "      <td>Eastbound 16 Avenue and 36 Street NE</td>\n",
       "      <td>Traffic incident. Blocking the left shoulder</td>\n",
       "      <td>2022-06-20 16:43:21</td>\n",
       "      <td>-113.989219</td>\n",
       "      <td>51.067086</td>\n",
       "    </tr>\n",
       "    <tr>\n",
       "      <th>4</th>\n",
       "      <td>Barlow Trail and 61 Avenue SE</td>\n",
       "      <td>Traffic incident.</td>\n",
       "      <td>2022-06-20 16:42:12</td>\n",
       "      <td>-113.985727</td>\n",
       "      <td>50.998727</td>\n",
       "    </tr>\n",
       "  </tbody>\n",
       "</table>\n",
       "</div>"
      ],
      "text/plain": [
       "                                Incident info  \\\n",
       "0   Westbound 16 Avenue at Deerfoot Trail NE    \n",
       "1                  11 Avenue and 4 Street SW    \n",
       "2             68 Street and Memorial Drive E    \n",
       "3       Eastbound 16 Avenue and 36 Street NE    \n",
       "4              Barlow Trail and 61 Avenue SE    \n",
       "\n",
       "                                         Description                Date  \\\n",
       "0  Stalled vehicle.  Partially blocking the right... 2022-06-21 07:31:40   \n",
       "1          Traffic incident. Blocking multiple lanes 2022-06-21 04:02:11   \n",
       "2                                  Traffic incident. 2022-06-20 23:53:08   \n",
       "3       Traffic incident. Blocking the left shoulder 2022-06-20 16:43:21   \n",
       "4                                  Traffic incident. 2022-06-20 16:42:12   \n",
       "\n",
       "    Longitude   Latitude  \n",
       "0 -114.026687  51.067485  \n",
       "1 -114.071481  51.042624  \n",
       "2 -113.935553  51.052474  \n",
       "3 -113.989219  51.067086  \n",
       "4 -113.985727  50.998727  "
      ]
     },
     "metadata": {},
     "output_type": "display_data"
    }
   ],
   "source": [
    "# converting the START_DT column into a datetime object\n",
    "traffic_incidents_df[\"START_DT\"] = pd.to_datetime(traffic_incidents_df[\"START_DT\"])\n",
    "# filtering for all incidents before jan 1, 2024 12:00:00 am\n",
    "traffic_incidents_df = traffic_incidents_df[traffic_incidents_df[\"START_DT\"] < \"2024-01-01 00:00:00\"]\n",
    "# changing column names\n",
    "traffic_incidents_df.rename(columns = {\"INCIDENT INFO\":\"Incident info\", \"DESCRIPTION\":\"Description\", \"START_DT\":\"Date\"}, inplace = True)\n",
    "display(traffic_incidents_df.head())"
   ]
  },
  {
   "cell_type": "code",
   "execution_count": 7,
   "metadata": {},
   "outputs": [],
   "source": [
    "# exporting the dataset out as a csv\n",
    "traffic_incidents_df.to_csv(\"traffic_incidents_cleaned.csv\")"
   ]
  },
  {
   "cell_type": "markdown",
   "metadata": {},
   "source": [
    "#### Traffic Signs Dataset"
   ]
  },
  {
   "cell_type": "code",
   "execution_count": 8,
   "metadata": {},
   "outputs": [
    {
     "data": {
      "text/html": [
       "<div>\n",
       "<style scoped>\n",
       "    .dataframe tbody tr th:only-of-type {\n",
       "        vertical-align: middle;\n",
       "    }\n",
       "\n",
       "    .dataframe tbody tr th {\n",
       "        vertical-align: top;\n",
       "    }\n",
       "\n",
       "    .dataframe thead th {\n",
       "        text-align: right;\n",
       "    }\n",
       "</style>\n",
       "<table border=\"1\" class=\"dataframe\">\n",
       "  <thead>\n",
       "    <tr style=\"text-align: right;\">\n",
       "      <th></th>\n",
       "      <th>TE_SIGNLOCATION_UNITID</th>\n",
       "      <th>FACING_CD</th>\n",
       "      <th>STA_CD</th>\n",
       "      <th>BOOK_CD</th>\n",
       "      <th>SIZE_CD</th>\n",
       "      <th>MISTNO</th>\n",
       "      <th>SIGN_TXT</th>\n",
       "      <th>UNITID</th>\n",
       "      <th>INSTDATE</th>\n",
       "      <th>REUSE</th>\n",
       "      <th>MATERIAL</th>\n",
       "      <th>BLADE_TYPE</th>\n",
       "      <th>SGN_STA_CD</th>\n",
       "      <th>SGN_COUNT_NO</th>\n",
       "      <th>FLD_SRC_TXT</th>\n",
       "      <th>SUPPORTTYPE</th>\n",
       "      <th>PL_TY</th>\n",
       "      <th>COMMENTS</th>\n",
       "      <th>POINT</th>\n",
       "    </tr>\n",
       "  </thead>\n",
       "  <tbody>\n",
       "    <tr>\n",
       "      <th>0</th>\n",
       "      <td>1109232327</td>\n",
       "      <td>S</td>\n",
       "      <td>R</td>\n",
       "      <td>NaN</td>\n",
       "      <td>NaN</td>\n",
       "      <td>NaN</td>\n",
       "      <td>NaN</td>\n",
       "      <td>1.109232e+09</td>\n",
       "      <td>NaN</td>\n",
       "      <td>NaN</td>\n",
       "      <td>NaN</td>\n",
       "      <td>Yield</td>\n",
       "      <td>R</td>\n",
       "      <td>0.0</td>\n",
       "      <td>NaN</td>\n",
       "      <td>NaN</td>\n",
       "      <td>NaN</td>\n",
       "      <td>NaN</td>\n",
       "      <td>POINT (-113.90912231652905 50.95285265999816)</td>\n",
       "    </tr>\n",
       "    <tr>\n",
       "      <th>1</th>\n",
       "      <td>1109077720</td>\n",
       "      <td>S</td>\n",
       "      <td>R</td>\n",
       "      <td>NaN</td>\n",
       "      <td>NaN</td>\n",
       "      <td>118290.0</td>\n",
       "      <td>NaN</td>\n",
       "      <td>1.109169e+09</td>\n",
       "      <td>NaN</td>\n",
       "      <td>NaN</td>\n",
       "      <td>NaN</td>\n",
       "      <td>Speed</td>\n",
       "      <td>R</td>\n",
       "      <td>0.0</td>\n",
       "      <td>NaN</td>\n",
       "      <td>NaN</td>\n",
       "      <td>NaN</td>\n",
       "      <td>NaN</td>\n",
       "      <td>POINT (-114.11791745574517 51.05122411771405)</td>\n",
       "    </tr>\n",
       "    <tr>\n",
       "      <th>2</th>\n",
       "      <td>1109031350</td>\n",
       "      <td>N</td>\n",
       "      <td>A</td>\n",
       "      <td>SG_11-250</td>\n",
       "      <td>NaN</td>\n",
       "      <td>35924.0</td>\n",
       "      <td>NaN</td>\n",
       "      <td>1.109150e+09</td>\n",
       "      <td>2004-07-01</td>\n",
       "      <td>NaN</td>\n",
       "      <td>NaN</td>\n",
       "      <td>Regulatory</td>\n",
       "      <td>A</td>\n",
       "      <td>1.0</td>\n",
       "      <td>NaN</td>\n",
       "      <td>NaN</td>\n",
       "      <td>NaN</td>\n",
       "      <td>NaN</td>\n",
       "      <td>POINT (-114.10875467880268 51.14009023357173)</td>\n",
       "    </tr>\n",
       "    <tr>\n",
       "      <th>3</th>\n",
       "      <td>1109025197</td>\n",
       "      <td>W</td>\n",
       "      <td>R</td>\n",
       "      <td>NaN</td>\n",
       "      <td>NaN</td>\n",
       "      <td>27810.0</td>\n",
       "      <td>NaN</td>\n",
       "      <td>1.109183e+09</td>\n",
       "      <td>NaN</td>\n",
       "      <td>NaN</td>\n",
       "      <td>NaN</td>\n",
       "      <td>Parking Restrictions</td>\n",
       "      <td>R</td>\n",
       "      <td>1.0</td>\n",
       "      <td>NaN</td>\n",
       "      <td>NaN</td>\n",
       "      <td>NaN</td>\n",
       "      <td>NaN</td>\n",
       "      <td>POINT (-114.07682108678044 51.063811504060965)</td>\n",
       "    </tr>\n",
       "    <tr>\n",
       "      <th>4</th>\n",
       "      <td>1109027078</td>\n",
       "      <td>E</td>\n",
       "      <td>R</td>\n",
       "      <td>SG_11-250</td>\n",
       "      <td>NaN</td>\n",
       "      <td>30584.0</td>\n",
       "      <td>NaN</td>\n",
       "      <td>1.109190e+09</td>\n",
       "      <td>NaN</td>\n",
       "      <td>NaN</td>\n",
       "      <td>NaN</td>\n",
       "      <td>Regulatory</td>\n",
       "      <td>R</td>\n",
       "      <td>3.0</td>\n",
       "      <td>NaN</td>\n",
       "      <td>NaN</td>\n",
       "      <td>NaN</td>\n",
       "      <td>NaN</td>\n",
       "      <td>POINT (-114.0369293315943 50.99954671067407)</td>\n",
       "    </tr>\n",
       "  </tbody>\n",
       "</table>\n",
       "</div>"
      ],
      "text/plain": [
       "   TE_SIGNLOCATION_UNITID FACING_CD STA_CD    BOOK_CD SIZE_CD    MISTNO  \\\n",
       "0              1109232327         S      R        NaN     NaN       NaN   \n",
       "1              1109077720         S      R        NaN     NaN  118290.0   \n",
       "2              1109031350         N      A  SG_11-250     NaN   35924.0   \n",
       "3              1109025197         W      R        NaN     NaN   27810.0   \n",
       "4              1109027078         E      R  SG_11-250     NaN   30584.0   \n",
       "\n",
       "  SIGN_TXT        UNITID    INSTDATE REUSE MATERIAL            BLADE_TYPE  \\\n",
       "0      NaN  1.109232e+09         NaN   NaN      NaN                 Yield   \n",
       "1      NaN  1.109169e+09         NaN   NaN      NaN                 Speed   \n",
       "2      NaN  1.109150e+09  2004-07-01   NaN      NaN            Regulatory   \n",
       "3      NaN  1.109183e+09         NaN   NaN      NaN  Parking Restrictions   \n",
       "4      NaN  1.109190e+09         NaN   NaN      NaN            Regulatory   \n",
       "\n",
       "  SGN_STA_CD  SGN_COUNT_NO FLD_SRC_TXT SUPPORTTYPE PL_TY COMMENTS  \\\n",
       "0          R           0.0         NaN         NaN   NaN      NaN   \n",
       "1          R           0.0         NaN         NaN   NaN      NaN   \n",
       "2          A           1.0         NaN         NaN   NaN      NaN   \n",
       "3          R           1.0         NaN         NaN   NaN      NaN   \n",
       "4          R           3.0         NaN         NaN   NaN      NaN   \n",
       "\n",
       "                                            POINT  \n",
       "0   POINT (-113.90912231652905 50.95285265999816)  \n",
       "1   POINT (-114.11791745574517 51.05122411771405)  \n",
       "2   POINT (-114.10875467880268 51.14009023357173)  \n",
       "3  POINT (-114.07682108678044 51.063811504060965)  \n",
       "4    POINT (-114.0369293315943 50.99954671067407)  "
      ]
     },
     "metadata": {},
     "output_type": "display_data"
    }
   ],
   "source": [
    "# importing raw traffic signs dataset\n",
    "traffic_signs_df = pd.read_csv(\"Traffic_Signs_20240208.csv\")\n",
    "display(traffic_signs_df.head())"
   ]
  },
  {
   "cell_type": "code",
   "execution_count": 9,
   "metadata": {},
   "outputs": [
    {
     "data": {
      "text/plain": [
       "BLADE_TYPE      875\n",
       "SGN_COUNT_NO     44\n",
       "POINT             0\n",
       "dtype: int64"
      ]
     },
     "metadata": {},
     "output_type": "display_data"
    }
   ],
   "source": [
    "# dropping irrelevent columns\n",
    "traffic_signs_df.drop(columns = [\"TE_SIGNLOCATION_UNITID\", \"FACING_CD\", \"STA_CD\", \"BOOK_CD\",\n",
    "                                 \"SIZE_CD\", \"MISTNO\", \"SIGN_TXT\", \"UNITID\", \"INSTDATE\", \"REUSE\",\n",
    "                                 \"MATERIAL\", \"SGN_STA_CD\", \"FLD_SRC_TXT\", \"SUPPORTTYPE\", \"PL_TY\",\n",
    "                                 \"COMMENTS\"], inplace = True)\n",
    "# checking for the number of missing values in each column\n",
    "display(traffic_signs_df.isna().sum())"
   ]
  },
  {
   "cell_type": "code",
   "execution_count": 10,
   "metadata": {},
   "outputs": [
    {
     "data": {
      "text/plain": [
       "BLADE_TYPE       object\n",
       "SGN_COUNT_NO    float64\n",
       "POINT            object\n",
       "dtype: object"
      ]
     },
     "metadata": {},
     "output_type": "display_data"
    }
   ],
   "source": [
    "# dropping rows with missing values\n",
    "for column in traffic_signs_df.columns:\n",
    "    traffic_signs_df.drop(traffic_signs_df[traffic_signs_df[column].isna()].index, inplace = True)\n",
    "# checking the datatypes of columns\n",
    "display(traffic_signs_df.dtypes)"
   ]
  },
  {
   "cell_type": "code",
   "execution_count": 11,
   "metadata": {},
   "outputs": [
    {
     "data": {
      "text/plain": [
       "array(['Yield', 'Speed', 'Regulatory', 'Parking Restrictions', 'Warning',\n",
       "       'Stop', 'Playground', 'Pedestrian', 'School',\n",
       "       'Guide / Information', 'Bicycle / Pathway', 'Hospital',\n",
       "       'Street Name', 'Timed Parking', 'Loading Zone', 'Disabled Parking',\n",
       "       'Residential Parking', 'Snow Route', 'Park Plus', 'Overhead Guide',\n",
       "       'Halo'], dtype=object)"
      ]
     },
     "execution_count": 11,
     "metadata": {},
     "output_type": "execute_result"
    }
   ],
   "source": [
    "# checking for all unique values of type of sign\n",
    "traffic_signs_df[\"BLADE_TYPE\"].unique()"
   ]
  },
  {
   "cell_type": "code",
   "execution_count": 12,
   "metadata": {},
   "outputs": [],
   "source": [
    "# removing irrelevant types of signs\n",
    "signs_to_drop = [\"Speed\", \"Regulatory\", \"Parking Restrictions\", \"Warning\", \"Playground\", \"Pedestrian\", \"School\",\n",
    "                 \"Guide / Information\", \"Bicycle / Pathway\", \"Hospital\", \"Street Name\", \"Timed Parking\",\n",
    "                 \"Loading Zone\", \"Disabled Parking\", \"Residential Parking\", \"Snow Route\", \"Park Plus\", \"Overhead Guide\", \"Halo\"]\n",
    "for sign in signs_to_drop:\n",
    "    traffic_signs_df.drop(traffic_signs_df[traffic_signs_df[\"BLADE_TYPE\"] == sign].index, inplace = True)"
   ]
  },
  {
   "cell_type": "code",
   "execution_count": 13,
   "metadata": {},
   "outputs": [
    {
     "data": {
      "text/html": [
       "<div>\n",
       "<style scoped>\n",
       "    .dataframe tbody tr th:only-of-type {\n",
       "        vertical-align: middle;\n",
       "    }\n",
       "\n",
       "    .dataframe tbody tr th {\n",
       "        vertical-align: top;\n",
       "    }\n",
       "\n",
       "    .dataframe thead th {\n",
       "        text-align: right;\n",
       "    }\n",
       "</style>\n",
       "<table border=\"1\" class=\"dataframe\">\n",
       "  <thead>\n",
       "    <tr style=\"text-align: right;\">\n",
       "      <th></th>\n",
       "      <th>sign</th>\n",
       "      <th>count</th>\n",
       "      <th>geometry</th>\n",
       "    </tr>\n",
       "  </thead>\n",
       "  <tbody>\n",
       "    <tr>\n",
       "      <th>0</th>\n",
       "      <td>Yield</td>\n",
       "      <td>0.0</td>\n",
       "      <td>POINT (-113.90912231652905 50.95285265999816)</td>\n",
       "    </tr>\n",
       "    <tr>\n",
       "      <th>8</th>\n",
       "      <td>Yield</td>\n",
       "      <td>1.0</td>\n",
       "      <td>POINT (-114.16452521100709 51.0394853655438)</td>\n",
       "    </tr>\n",
       "    <tr>\n",
       "      <th>11</th>\n",
       "      <td>Yield</td>\n",
       "      <td>1.0</td>\n",
       "      <td>POINT (-114.06515007469494 50.914291613495664)</td>\n",
       "    </tr>\n",
       "    <tr>\n",
       "      <th>12</th>\n",
       "      <td>Stop</td>\n",
       "      <td>2.0</td>\n",
       "      <td>POINT (-114.14138261644307 50.9503904907611)</td>\n",
       "    </tr>\n",
       "    <tr>\n",
       "      <th>17</th>\n",
       "      <td>Stop</td>\n",
       "      <td>4.0</td>\n",
       "      <td>POINT (-114.05770696355378 51.050554840686836)</td>\n",
       "    </tr>\n",
       "  </tbody>\n",
       "</table>\n",
       "</div>"
      ],
      "text/plain": [
       "     sign  count                                        geometry\n",
       "0   Yield    0.0   POINT (-113.90912231652905 50.95285265999816)\n",
       "8   Yield    1.0    POINT (-114.16452521100709 51.0394853655438)\n",
       "11  Yield    1.0  POINT (-114.06515007469494 50.914291613495664)\n",
       "12   Stop    2.0    POINT (-114.14138261644307 50.9503904907611)\n",
       "17   Stop    4.0  POINT (-114.05770696355378 51.050554840686836)"
      ]
     },
     "metadata": {},
     "output_type": "display_data"
    }
   ],
   "source": [
    "# renaming columns\n",
    "traffic_signs_df.rename(columns = {\"BLADE_TYPE\":\"sign\", \"SGN_COUNT_NO\":\"count\", \"POINT\":\"geometry\"}, inplace = True)\n",
    "display(traffic_signs_df.head())"
   ]
  },
  {
   "cell_type": "code",
   "execution_count": 14,
   "metadata": {},
   "outputs": [],
   "source": [
    "# exporting the dataset out as a csv\n",
    "traffic_signs_df.to_csv(\"traffic_signs_cleaned.csv\")"
   ]
  },
  {
   "cell_type": "markdown",
   "metadata": {},
   "source": [
    "#### Description Cleaning"
   ]
  },
  {
   "cell_type": "code",
   "execution_count": 198,
   "metadata": {},
   "outputs": [],
   "source": [
    "# extracting the description column for the traffic incidents\n",
    "list_descriptions = traffic_incidents_df[\"Description\"]\n",
    "# filling in nan values (numeric) with strings\n",
    "list_descriptions = list_descriptions.apply(lambda x: \"None\" if type(x)!=str else x)\n",
    "# converting the series to a list\n",
    "list_descriptions = list_descriptions.to_list()\n",
    "# joining the list into one string with a space seperating each description\n",
    "string_descriptions = \" \".join(list_descriptions)"
   ]
  },
  {
   "cell_type": "code",
   "execution_count": 199,
   "metadata": {},
   "outputs": [],
   "source": [
    "# removing non-letter characters\n",
    "non_letter_characters = [\"!\", '\"', \"#\", \"$\", \"%\", \"&\", \"'\", \"(\", \")\", \"*\", \"+\", \",\", \".\", \"/\", \":\", \";\", \"<\", \"=\", \">\", \"?\", \"@\", \"[\", \"]\", \"^\", \"_\", \"`\", \"{\", \"|\", \"}\", \"~\", \"0\", \"1\", \"2\", \"3\", \"4\", \"5\", \"6\", \"7\", \"8\", \"9\"]\n",
    "for char in non_letter_characters:\n",
    "    string_descriptions = string_descriptions.replace(char, \"\")"
   ]
  },
  {
   "cell_type": "code",
   "execution_count": 205,
   "metadata": {},
   "outputs": [],
   "source": [
    "# converting multiple spaces together into one space\n",
    "# (split, splits the string into a list of words)\n",
    "string_descriptions = \" \".join(string_descriptions.split())\n",
    "# making every word lowercase to maintain consistency\n",
    "string_descriptions = string_descriptions.lower()\n",
    "# replacing spaces with a new line for the txt file\n",
    "string_descriptions = string_descriptions.replace(\" \", \"\\n\")"
   ]
  },
  {
   "cell_type": "markdown",
   "metadata": {},
   "source": [
    "### Traffic Camera Cleaning"
   ]
  },
  {
   "cell_type": "code",
   "execution_count": 18,
   "metadata": {},
   "outputs": [
    {
     "data": {
      "text/html": [
       "<div>\n",
       "<style scoped>\n",
       "    .dataframe tbody tr th:only-of-type {\n",
       "        vertical-align: middle;\n",
       "    }\n",
       "\n",
       "    .dataframe tbody tr th {\n",
       "        vertical-align: top;\n",
       "    }\n",
       "\n",
       "    .dataframe thead th {\n",
       "        text-align: right;\n",
       "    }\n",
       "</style>\n",
       "<table border=\"1\" class=\"dataframe\">\n",
       "  <thead>\n",
       "    <tr style=\"text-align: right;\">\n",
       "      <th></th>\n",
       "      <th>Camera URL</th>\n",
       "      <th>Quadrant</th>\n",
       "      <th>Camera Location</th>\n",
       "      <th>Point</th>\n",
       "    </tr>\n",
       "  </thead>\n",
       "  <tbody>\n",
       "    <tr>\n",
       "      <th>0</th>\n",
       "      <td>Camera 158 (http://trafficcam.calgary.ca/loc15...</td>\n",
       "      <td>SW</td>\n",
       "      <td>26 Ave / 4 St SW</td>\n",
       "      <td>POINT (-114.0716774 51.0296112)</td>\n",
       "    </tr>\n",
       "    <tr>\n",
       "      <th>1</th>\n",
       "      <td>Camera 30 (http://trafficcam.calgary.ca/loc29....</td>\n",
       "      <td>SE</td>\n",
       "      <td>114 Avenue / 52 Street SE</td>\n",
       "      <td>POINT (-113.958331 50.9504395)</td>\n",
       "    </tr>\n",
       "    <tr>\n",
       "      <th>2</th>\n",
       "      <td>Camera 142 (http://trafficcam.calgary.ca/loc14...</td>\n",
       "      <td>SW</td>\n",
       "      <td>90 Avenue / 24 Street SW</td>\n",
       "      <td>POINT (-114.1177502 50.9724213)</td>\n",
       "    </tr>\n",
       "    <tr>\n",
       "      <th>3</th>\n",
       "      <td>Camera 90 (http://trafficcam.calgary.ca/loc89....</td>\n",
       "      <td>NW/NE</td>\n",
       "      <td>Samis Road / Centre Street North</td>\n",
       "      <td>POINT (-114.0624739 51.0549834)</td>\n",
       "    </tr>\n",
       "    <tr>\n",
       "      <th>4</th>\n",
       "      <td>Camera 38 (https://trafficcam.calgary.ca/loc37...</td>\n",
       "      <td>NW</td>\n",
       "      <td>Crowchild Trail / Shaganappi Trail NW</td>\n",
       "      <td>POINT (-114.149379 51.0988494)</td>\n",
       "    </tr>\n",
       "  </tbody>\n",
       "</table>\n",
       "</div>"
      ],
      "text/plain": [
       "                                          Camera URL Quadrant  \\\n",
       "0  Camera 158 (http://trafficcam.calgary.ca/loc15...       SW   \n",
       "1  Camera 30 (http://trafficcam.calgary.ca/loc29....       SE   \n",
       "2  Camera 142 (http://trafficcam.calgary.ca/loc14...       SW   \n",
       "3  Camera 90 (http://trafficcam.calgary.ca/loc89....    NW/NE   \n",
       "4  Camera 38 (https://trafficcam.calgary.ca/loc37...       NW   \n",
       "\n",
       "                         Camera Location                            Point  \n",
       "0                       26 Ave / 4 St SW  POINT (-114.0716774 51.0296112)  \n",
       "1              114 Avenue / 52 Street SE   POINT (-113.958331 50.9504395)  \n",
       "2               90 Avenue / 24 Street SW  POINT (-114.1177502 50.9724213)  \n",
       "3       Samis Road / Centre Street North  POINT (-114.0624739 51.0549834)  \n",
       "4  Crowchild Trail / Shaganappi Trail NW   POINT (-114.149379 51.0988494)  "
      ]
     },
     "metadata": {},
     "output_type": "display_data"
    }
   ],
   "source": [
    "# importing the dataset\n",
    "cameras_df = pd.read_csv(\"Traffic_Cameras_20240209.csv\")\n",
    "display(cameras_df.head())"
   ]
  },
  {
   "cell_type": "code",
   "execution_count": 19,
   "metadata": {},
   "outputs": [],
   "source": [
    "# dropping irrelevent columns\n",
    "cameras_df.drop(columns = [\"Camera URL\", \"Camera Location\"], inplace = True)"
   ]
  },
  {
   "cell_type": "code",
   "execution_count": 20,
   "metadata": {},
   "outputs": [
    {
     "data": {
      "text/plain": [
       "Quadrant    0\n",
       "Point       0\n",
       "dtype: int64"
      ]
     },
     "execution_count": 20,
     "metadata": {},
     "output_type": "execute_result"
    }
   ],
   "source": [
    "# checking for missing values in each column\n",
    "cameras_df.isna().sum()"
   ]
  },
  {
   "cell_type": "code",
   "execution_count": 21,
   "metadata": {},
   "outputs": [
    {
     "data": {
      "text/plain": [
       "Quadrant    object\n",
       "Point       object\n",
       "dtype: object"
      ]
     },
     "execution_count": 21,
     "metadata": {},
     "output_type": "execute_result"
    }
   ],
   "source": [
    "# checking the datatypes of the columns\n",
    "cameras_df.dtypes"
   ]
  },
  {
   "cell_type": "code",
   "execution_count": 22,
   "metadata": {},
   "outputs": [],
   "source": [
    "# renaming columns\n",
    "cameras_df.rename(columns = {\"Quadrant\":\"quadrant\",\"Point\":\"geometry\"}, inplace = True)"
   ]
  },
  {
   "cell_type": "code",
   "execution_count": null,
   "metadata": {},
   "outputs": [],
   "source": [
    "# exporting the dataset out as a csv\n",
    "cameras_df.to_csv(\"traffic_cameras_cleaned.csv\")"
   ]
  },
  {
   "cell_type": "markdown",
   "metadata": {},
   "source": [
    "### Exporting Description Dataset"
   ]
  },
  {
   "cell_type": "code",
   "execution_count": 206,
   "metadata": {},
   "outputs": [],
   "source": [
    "# writing the list from above into a txt file for exporting\n",
    "with open(\"trafficincidentdescriptions.txt\", \"w\") as file:\n",
    "    # writing the title for the column\n",
    "    file.write(\"Traffic_Incident_Decriptions\\n\")\n",
    "    file.write(string_descriptions)"
   ]
  },
  {
   "cell_type": "markdown",
   "metadata": {},
   "source": [
    "### References\n",
    "\n",
    "City of Calgary. (2024). Map of Traffic Signs. Open Calgary. https://data.calgary.ca/Transportation-Transit/Map-of-Traffic-Signs/2c7u-hsrm\n",
    "\n",
    "City of Calgary. (2024). Traffic Cameras. Open Calgary. https://data.calgary.ca/Transportation-Transit/Traffic-Cameras/k7p9-kppz/about_data\n",
    "\n",
    "City of Calgary. (2024). Traffic Incidents. Open Calgary. https://data.calgary.ca/Transportation-Transit/Traffic-Incidents/35ra-9556/about_data\n",
    "\n",
    "Dhaliwal, H. (2024). The City of Calgary Traffic Incidents and the Impacts on Residents. Github. https://github.com/Harjot66/The-City-of-Calgary-Traffic-Incidents-and-the-Impacts-on-Residents\n",
    "\n",
    "Froberg D. (2019). Grey Concrete Buildings. Unsplash. https://unsplash.com/photos/grey-concrete-buildings-NreIaUZ-h7U?utm_source=63921&utm_medium=referral"
   ]
  }
 ],
 "metadata": {
  "kernelspec": {
   "display_name": "Python 3 (ipykernel)",
   "language": "python",
   "name": "python3"
  },
  "language_info": {
   "codemirror_mode": {
    "name": "ipython",
    "version": 3
   },
   "file_extension": ".py",
   "mimetype": "text/x-python",
   "name": "python",
   "nbconvert_exporter": "python",
   "pygments_lexer": "ipython3",
   "version": "3.11.5"
  }
 },
 "nbformat": 4,
 "nbformat_minor": 2
}
